{
 "cells": [
  {
   "cell_type": "code",
   "execution_count": null,
   "metadata": {},
   "outputs": [],
   "source": [
    "import sys\n",
    "print(sys.version)\n",
    "import calendar as c\n",
    "from calendar import weekheader\n",
    "\n",
    "c.setfirstweekday(c.SUNDAY)\n",
    "h = c.weekheader(2)\n",
    "\n",
    "def prt_cc(y):\n",
    "    for m in range(1,13):\n",
    "        cc = c.Calendar()\n",
    "        cc.setfirstweekday(c.SUNDAY)\n",
    "        print(y,m)\n",
    "        print(h)\n",
    "        ws = cc.monthdayscalendar(y,m)\n",
    "        for w in ws:\n",
    "            for d in w:\n",
    "                if d == 0:\n",
    "                    print('     ',end='')\n",
    "                else:\n",
    "                    print(f'{d:02}',end=' ')\n",
    "            print()\n",
    "        print()\n",
    "\n",
    "y = 2018\n",
    "prt_cc(y)"
   ]
  }
 ],
 "metadata": {
  "kernelspec": {
   "display_name": "Python 3",
   "language": "python",
   "name": "python3"
  },
  "language_info": {
   "codemirror_mode": {
    "name": "ipython",
    "version": 3
   },
   "file_extension": ".py",
   "mimetype": "text/x-python",
   "name": "python",
   "nbconvert_exporter": "python",
   "pygments_lexer": "ipython3",
   "version": "3.7.0"
  }
 },
 "nbformat": 4,
 "nbformat_minor": 2
}

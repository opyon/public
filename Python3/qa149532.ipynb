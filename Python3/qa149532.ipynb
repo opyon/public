{
 "cells": [
  {
   "cell_type": "raw",
   "metadata": {},
   "source": [
    "Python3 長さが同じ文字列同士の比較で違いが何個あるか"
   ]
  },
  {
   "cell_type": "markdown",
   "metadata": {},
   "source": [
    "https://teratail.com/questions/149532"
   ]
  },
  {
   "cell_type": "code",
   "execution_count": 1,
   "metadata": {},
   "outputs": [
    {
     "name": "stdout",
     "output_type": "stream",
     "text": [
      "3.7.0 (default, Jun 28 2018, 08:04:48) [MSC v.1912 64 bit (AMD64)]\n",
      "diff1@a 0.667042158000001\n",
      "diff2@L 1.2203339090000043\n",
      "diff3@o 1.1857057209999908\n",
      "diff1@a 0.6950938450000024\n",
      "diff2@L 1.204581159\n",
      "diff3@o 1.1924594519999943\n",
      "diff1@a 0.7746729990000034\n",
      "diff2@L 1.2306264190000036\n",
      "diff3@o 1.2659081000000043\n"
     ]
    }
   ],
   "source": [
    "import sys\n",
    "print(sys.version)\n",
    "import timeit\n",
    "\n",
    "def count_diff3(q,a):\n",
    "    \"\"\"\n",
    "    ＠opyon\n",
    "    オリジナル\n",
    "    \"\"\"\n",
    "    lst_q = list(q)\n",
    "    lst_a = list(a)\n",
    "    len_q = len(lst_q)\n",
    "    ng = 0\n",
    "    for i in range(len_q):\n",
    "        if lst_q[i] != lst_a[i]:\n",
    "            ng += 1\n",
    "    return ng\n",
    "\n",
    "def count_diff1(a,b):\n",
    "    \"\"\"\n",
    "    ＠hayataka2049さん\n",
    "    コードを単純化\n",
    "    \"\"\"\n",
    "    cnt = 0\n",
    "    for c1,c2 in zip(a, b):\n",
    "        if c1 != c2:\n",
    "            cnt += 1\n",
    "    return cnt\n",
    "\n",
    "def count_diff2(q, a):\n",
    "    \"\"\"\n",
    "    @LouiS0616さん\n",
    "    \"\"\"\n",
    "\n",
    "    return sum(\n",
    "        c1 != c2 for c1, c2 in zip(q, a)\n",
    "    )\n",
    "\n",
    "\n",
    "q = 'abcdefg'\n",
    "a = 'abcdefg'\n",
    "b = 'xbcdefg'\n",
    "c = 'xbxdxfx'\n",
    "\n",
    "print('diff1@a',timeit.timeit(lambda: count_diff1(q,a)))\n",
    "print('diff2@L',timeit.timeit(lambda: count_diff2(q,a)))\n",
    "print('diff3@o',timeit.timeit(lambda: count_diff3(q,a)))\n",
    "\n",
    "print('diff1@a',timeit.timeit(lambda: count_diff1(q,b)))\n",
    "print('diff2@L',timeit.timeit(lambda: count_diff2(q,b)))\n",
    "print('diff3@o',timeit.timeit(lambda: count_diff3(q,b)))\n",
    "\n",
    "print('diff1@a',timeit.timeit(lambda: count_diff1(q,c)))\n",
    "print('diff2@L',timeit.timeit(lambda: count_diff2(q,c)))\n",
    "print('diff3@o',timeit.timeit(lambda: count_diff3(q,c)))\n"
   ]
  },
  {
   "cell_type": "code",
   "execution_count": null,
   "metadata": {},
   "outputs": [],
   "source": []
  }
 ],
 "metadata": {
  "kernelspec": {
   "display_name": "Python 3",
   "language": "python",
   "name": "python3"
  },
  "language_info": {
   "codemirror_mode": {
    "name": "ipython",
    "version": 3
   },
   "file_extension": ".py",
   "mimetype": "text/x-python",
   "name": "python",
   "nbconvert_exporter": "python",
   "pygments_lexer": "ipython3",
   "version": "3.7.0"
  }
 },
 "nbformat": 4,
 "nbformat_minor": 2
}

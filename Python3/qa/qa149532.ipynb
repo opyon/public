{
 "cells": [
  {
   "cell_type": "raw",
   "metadata": {},
   "source": [
    "Python3 長さが同じ文字列同士の比較で違いが何個あるか"
   ]
  },
  {
   "cell_type": "markdown",
   "metadata": {},
   "source": [
    "https://teratail.com/questions/149532"
   ]
  },
  {
   "cell_type": "code",
   "execution_count": 1,
   "metadata": {},
   "outputs": [
    {
     "name": "stdout",
     "output_type": "stream",
     "text": [
      "3.7.0 (default, Jun 28 2018, 08:04:48) [MSC v.1912 64 bit (AMD64)]\n",
      "diff1@a 0.7048761800000012\n",
      "diff1@a 0.7207871959999999\n",
      "diff1@a 0.7572887049999988\n",
      "\n",
      "diff2@L 1.1904971500000006\n",
      "diff2@L 1.1954162149999998\n",
      "diff2@L 1.207863575000001\n",
      "\n",
      "diff3@o 1.1409823100000018\n",
      "diff3@o 1.1644672060000012\n",
      "diff3@o 1.2470705879999997\n",
      "\n",
      "diff4@R 5.952076590000001\n",
      "diff4@R 5.895021057000001\n",
      "diff4@R 5.881027850999999\n"
     ]
    }
   ],
   "source": [
    "import sys\n",
    "print(sys.version)\n",
    "import timeit\n",
    "import numpy as np\n",
    "\n",
    "def count_diff3(q,a):\n",
    "    \"\"\"\n",
    "    ＠opyon\n",
    "    オリジナル\n",
    "    \"\"\"\n",
    "    lst_q = list(q)\n",
    "    lst_a = list(a)\n",
    "    len_q = len(lst_q)\n",
    "    ng = 0\n",
    "    for i in range(len_q):\n",
    "        if lst_q[i] != lst_a[i]:\n",
    "            ng += 1\n",
    "    return ng\n",
    "\n",
    "def count_diff1(a,b):\n",
    "    \"\"\"\n",
    "    ＠hayataka2049さん\n",
    "    コードを単純化\n",
    "    \"\"\"\n",
    "    cnt = 0\n",
    "    for c1,c2 in zip(a, b):\n",
    "        if c1 != c2:\n",
    "            cnt += 1\n",
    "    return cnt\n",
    "\n",
    "def count_diff2(q, a):\n",
    "    \"\"\"\n",
    "    @LouiS0616さん\n",
    "    \"\"\"\n",
    "\n",
    "    return sum(\n",
    "        c1 != c2 for c1, c2 in zip(q, a)\n",
    "    )\n",
    "\n",
    "def count_diff4(q,a):\n",
    "    '''\n",
    "    @R.Shigemoriさん\n",
    "    '''\n",
    "    lst_q = list(q)\n",
    "    lst_a = list(a)\n",
    "    ar_lst_q = np.array(lst_q)  # arrayに変換\n",
    "    ar_lst_a = np.array(lst_a)  # arrayに変換\n",
    "    diff = ar_lst_q != ar_lst_a # 配列を一括比較 -> 要素同士の比較結果が配列で格納される\n",
    "    return np.sum(diff)\n",
    "\n",
    "\n",
    "q = 'abcdefg'\n",
    "a = 'abcdefg'\n",
    "b = 'xbcdefg'\n",
    "c = 'xbxdxfx'\n",
    "\n",
    "print('diff1@a',timeit.timeit(lambda: count_diff1(q,a)))\n",
    "print('diff1@a',timeit.timeit(lambda: count_diff1(q,b)))\n",
    "print('diff1@a',timeit.timeit(lambda: count_diff1(q,c)))\n",
    "print()\n",
    "print('diff2@L',timeit.timeit(lambda: count_diff2(q,a)))\n",
    "print('diff2@L',timeit.timeit(lambda: count_diff2(q,b)))\n",
    "print('diff2@L',timeit.timeit(lambda: count_diff2(q,c)))\n",
    "print()\n",
    "print('diff3@o',timeit.timeit(lambda: count_diff3(q,a)))\n",
    "print('diff3@o',timeit.timeit(lambda: count_diff3(q,b)))\n",
    "print('diff3@o',timeit.timeit(lambda: count_diff3(q,c)))\n",
    "print()\n",
    "print('diff4@R',timeit.timeit(lambda: count_diff4(q,a)))\n",
    "print('diff4@R',timeit.timeit(lambda: count_diff4(q,b)))\n",
    "print('diff4@R',timeit.timeit(lambda: count_diff4(q,c)))\n"
   ]
  },
  {
   "cell_type": "code",
   "execution_count": null,
   "metadata": {},
   "outputs": [],
   "source": []
  }
 ],
 "metadata": {
  "kernelspec": {
   "display_name": "Python 3",
   "language": "python",
   "name": "python3"
  },
  "language_info": {
   "codemirror_mode": {
    "name": "ipython",
    "version": 3
   },
   "file_extension": ".py",
   "mimetype": "text/x-python",
   "name": "python",
   "nbconvert_exporter": "python",
   "pygments_lexer": "ipython3",
   "version": "3.7.0"
  }
 },
 "nbformat": 4,
 "nbformat_minor": 2
}

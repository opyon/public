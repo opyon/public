{
 "cells": [
  {
   "cell_type": "raw",
   "metadata": {},
   "source": [
    "直線を書くアルゴリズムについて 回答"
   ]
  },
  {
   "cell_type": "markdown",
   "metadata": {},
   "source": [
    "https://teratail.com/questions/149396"
   ]
  },
  {
   "cell_type": "code",
   "execution_count": 84,
   "metadata": {},
   "outputs": [
    {
     "name": "stdout",
     "output_type": "stream",
     "text": [
      "3.6.6 |Anaconda, Inc.| (default, Jun 28 2018, 11:27:44) [MSC v.1900 64 bit (AMD64)]\n",
      "直線(1,2)-(8,7)\n"
     ]
    },
    {
     "data": {
      "image/png": "[encoded data removed]",
      "text/plain": [
       "<Figure size 576x576 with 1 Axes>"
      ]
     },
     "metadata": {},
     "output_type": "display_data"
    }
   ],
   "source": [
    "import sys\n",
    "import numpy as np\n",
    "print(sys.version)\n",
    "\n",
    "class Point_():\n",
    "\n",
    "    def __init__(self, x_init, y_init):\n",
    "        self.x = x_init\n",
    "        self.y = y_init\n",
    "\n",
    "\n",
    "def chk(s, e, p):\n",
    "    if s.x <= p.x and p.x <= e.x:\n",
    "        if s.y <= e.y \\\n",
    "            and (s.y <= p.y and p.y <= e.y) \\\n",
    "            or s.y >= e.y \\\n",
    "            and (s.y >= p.y \\\n",
    "            and p.y >= e.y) \\\n",
    "        :\n",
    "            a = e.y - s.y\n",
    "            b = s.x - e.x\n",
    "            c = s.x * (s.y - e.y) - s.y * (s.x - e.x)\n",
    "\n",
    "            #以下判定条件式を追加改修\n",
    "            chk = a * p.x + b * p.y + c\n",
    "            \n",
    "            len_x = e.x - s.x\n",
    "            len_y = e.y - s.y\n",
    "            if len_x == len_y:\n",
    "                v = 0\n",
    "            else:\n",
    "                v = len_x // 2 + len_y // 2\n",
    "\n",
    "            if  chk >= v * -1 and chk <= v:\n",
    "                return True\n",
    "            else:\n",
    "                return False\n",
    "            #追加改修以上\n",
    "\n",
    "# 描画部分はtiitoiさんコードから引用しコードに合わせて改修\n",
    "import matplotlib.pyplot as plt\n",
    "from matplotlib.lines import Line2D\n",
    "\n",
    "def show_image(ax, img):\n",
    "    ax.imshow(img, interpolation='none')\n",
    "    ax.grid(which='minor', color='b', linestyle='-', linewidth=1)\n",
    "    # Major ticks\n",
    "    ax.set_xticks(np.arange(0, 10, 1))\n",
    "    ax.set_yticks(np.arange(0, 10, 1))\n",
    "    # Labels for major ticks\n",
    "    ax.set_xticklabels(np.arange(10))\n",
    "    ax.set_yticklabels(np.arange(10))\n",
    "    # Minor ticks\n",
    "    ax.set_xticks(np.arange(-.5, 10, 1), minor=True)\n",
    "    ax.set_yticks(np.arange(-.5, 10, 1), minor=True)\n",
    "\n",
    "def draw_line(img, p1, p2, color=[255, 0, 0]):\n",
    "    x1, y1 = p1\n",
    "    x2, y2 = p2\n",
    "\n",
    "    slope = (y2 - y1) / (x2 - x1)\n",
    "\n",
    "    xs = np.arange(x1, x2 + 1, 0.01)\n",
    "    ys = y1 + slope * (xs - x1)\n",
    "    pts = np.vstack([xs, ys]).T\n",
    "    print(pts.shape)\n",
    "\n",
    "    pts = np.ceil(pts).astype(int)  # 離散化する。\n",
    "    pts = np.unique(pts, axis=0)  # 重複する点を削除\n",
    "\n",
    "# 座標入力\n",
    "s = Point_(1, 2)\n",
    "e = Point_(8, 7)\n",
    "\n",
    "print(f'直線({s.x},{s.y})-({e.x},{e.y})')\n",
    "points = []\n",
    "for p_x in range(s.x,e.x+1,1):\n",
    "    for p_y in range(s.y,e.y+1,1):\n",
    "        p = Point_(p_x, p_y)\n",
    "        ret = chk(s,e,p)\n",
    "        if ret:\n",
    "            points.append([p_x,p_y])\n",
    "\n",
    "points = np.array(points)            \n",
    "\n",
    "# 白紙の画像を作成する。\n",
    "img = np.full((10, 10, 3), 255, dtype=np.uint8)\n",
    "\n",
    "for x, y in points:\n",
    "    img[y, x] = [255, 0, 0]  # 赤\n",
    "\n",
    "fig, ax = plt.subplots(figsize=(8, 8), facecolor='w')\n",
    "ax.add_line(Line2D([s.x, e.x], [s.y, e.y], color='g'))\n",
    "show_image(ax, img)\n",
    "# plt.savefig('test.png')"
   ]
  }
 ],
 "metadata": {
  "kernelspec": {
   "display_name": "Python 3",
   "language": "python",
   "name": "python3"
  },
  "language_info": {
   "codemirror_mode": {
    "name": "ipython",
    "version": 3
   },
   "file_extension": ".py",
   "mimetype": "text/x-python",
   "name": "python",
   "nbconvert_exporter": "python",
   "pygments_lexer": "ipython3",
   "version": "3.6.6"
  }
 },
 "nbformat": 4,
 "nbformat_minor": 2
}
